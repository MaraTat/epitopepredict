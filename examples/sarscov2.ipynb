{
 "cells": [
  {
   "cell_type": "markdown",
   "metadata": {},
   "source": [
    "# T cell epitopes of SARS-CoV2\n",
    "\n",
    "## Methods\n",
    "\n",
    "* Predict MHC-I binders for sars-cov2 reference sequences (S and N important)\n",
    "* Align with sars-cov and get conserved epitopes.\n",
    "* Best alleles to use?\n",
    "* Multiple sequence alignment of each protein to reference\n",
    "* find conservation of binders with closest peptide in each HCov sequence and determine identity\n",
    "\n",
    "## References\n",
    "\n",
    "* J. Mateus et al., “Selective and cross-reactive SARS-CoV-2 T cell epitopes in unexposed humans,” Science (80-. )., vol. 3871, no. August, p. eabd3871, Aug. 2020.\n",
    "* S. F. Ahmed, A. A. Quadeer, and M. R. McKay, “Preliminary Identification of Potential Vaccine Targets for the COVID-19 Coronavirus (SARS-CoV-2) Based on SARS-CoV Immunological Studies.,” Viruses, vol. 12, no. 3, 2020.\n",
    "* A. Grifoni et al., “A sequence homology and bioinformatic approach can predict candidate targets for immune responses to SARS-CoV-2,” Cell Host Microbe, pp. 1–10, 2020.\n",
    "* V. Baruah and S. Bose, “Immunoinformatics-aided identification of T cell and B cell epitopes in the surface glycoprotein of 2019-nCoV,” J. Med. Virol., no. February, pp. 495–500, 2020.\n",
    "\n",
    "## Common coronoviruses\n",
    "\n",
    "* https://www.cdc.gov/coronavirus/types.html\n"
   ]
  },
  {
   "cell_type": "code",
   "execution_count": 1,
   "metadata": {},
   "outputs": [],
   "source": [
    "import os, math, time, pickle, subprocess\n",
    "from importlib import reload\n",
    "from collections import OrderedDict, defaultdict\n",
    "import numpy as np\n",
    "import pandas as pd\n",
    "pd.set_option('display.width', 180)\n",
    "import epitopepredict as ep\n",
    "from epitopepredict import base, sequtils, plotting, peptutils, analysis\n",
    "from IPython.display import display, HTML, Image\n",
    "%matplotlib inline\n",
    "import matplotlib as mpl\n",
    "import pylab as plt\n",
    "import pathogenie\n",
    "from Bio import SeqIO,AlignIO\n",
    "from Bio.Seq import Seq\n",
    "from Bio.SeqRecord import SeqRecord"
   ]
  },
  {
   "cell_type": "markdown",
   "metadata": {},
   "source": [
    "## load ref genomes"
   ]
  },
  {
   "cell_type": "code",
   "execution_count": 2,
   "metadata": {},
   "outputs": [],
   "source": [
    "labels = {'sars':'NC_004718.3','scov2':'NC_045512.2','229E':'NC_002645.1','NL63':'NC_005831.2','OC43':'NC_006213.1','HKU1':'NC_006577.2'}\n",
    "genomes = []\n",
    "for l in labels:\n",
    "    df = ep.genbank_to_dataframe(labels[l]+'.gb',cds=True)\n",
    "    df['label'] = l\n",
    "    genomes.append(df)\n",
    "genomes = pd.concat(genomes)\n",
    "scov2_df = genomes[genomes.label=='scov2']\n",
    "scov2_df = scov2_df.drop_duplicates('locus_tag')\n",
    "#print (genomes[['label','gene','product','length']])"
   ]
  },
  {
   "cell_type": "code",
   "execution_count": 3,
   "metadata": {},
   "outputs": [],
   "source": [
    "def get_seqs(gene):\n",
    "    seqs = []\n",
    "    sub = genomes[genomes['gene']==gene]\n",
    "    for i,r in sub.iterrows():\n",
    "        s=SeqRecord(Seq(r.translation),id=r.label)\n",
    "        seqs.append(s)\n",
    "    return seqs\n",
    "seqs=get_seqs('S')"
   ]
  },
  {
   "cell_type": "markdown",
   "metadata": {},
   "source": [
    "## find orthologs in each genome\n",
    "### blast the genomes to find corresponding protein as names are ambigious"
   ]
  },
  {
   "cell_type": "code",
   "execution_count": 4,
   "metadata": {},
   "outputs": [
    {
     "name": "stdout",
     "output_type": "stream",
     "text": [
      "SingleLetterAlphabet() alignment with 6 rows and 1475 columns\n",
      "--MFIFLLFLT----------------LTSGSDLDRCTTFDDVQ...HYT sars\n",
      "--MFVFLVLLP----------------LVSSQCVN--LTTRTQL...HYT scov2\n",
      "-MFLILLISLPTAFAVIGD-------LKCTSDNINDKDTGPPPI...D-- OC43\n",
      "--MLLIIFILPTTLAVIGD-------FNCTNFAINDLNTTVPRI...D-- HKU1\n",
      "--------------------------------------------...HIQ 229E\n",
      "MKLFLILLVLPLASCFFTCNSNANLSMLQLGVPDNSSTIVTGLL...HVQ NL63\n"
     ]
    }
   ],
   "source": [
    "pathogenie.tools.dataframe_to_fasta(genomes, idkey='locus_tag', descrkey='product', outfile='proteins.fa')\n",
    "pathogenie.tools.make_blast_database('proteins.fa', dbtype='prot')\n",
    "\n",
    "def get_orthologs(gene):\n",
    "    sub = scov2_df[scov2_df['gene']==gene].iloc[0]    \n",
    "    rec = SeqRecord(Seq(sub.translation),id=sub.gene)\n",
    "    bl = pathogenie.tools.blast_sequences('proteins.fa', [rec], maxseqs=10, evalue=1e-4,\n",
    "                              cmd='blastp', threads=4)\n",
    "    bl = bl.drop_duplicates('sseqid')\n",
    "    #print (bl.sseqid)\n",
    "    found = genomes[genomes.locus_tag.isin(bl.sseqid)].drop_duplicates('locus_tag')\n",
    "    #print (found)\n",
    "    recs = pathogenie.tools.dataframe_to_seqrecords(found,\n",
    "                            seqkey='translation',idkey='label',desckey='product')\n",
    "    return recs\n",
    "\n",
    "seqs = get_orthologs('S')\n",
    "aln = pathogenie.clustal_alignment(seqs=seqs)\n",
    "print (aln)"
   ]
  },
  {
   "cell_type": "code",
   "execution_count": 6,
   "metadata": {},
   "outputs": [
    {
     "data": {
      "text/plain": [
       "Seq('MFIFLLFLTLTSGSDLDRCTTFDDVQAPNYTQHTSSMRGVYYPDEIFRSDTLYL...HYT', None)"
      ]
     },
     "execution_count": 6,
     "metadata": {},
     "output_type": "execute_result"
    }
   ],
   "source": [
    "spikesars = SeqIO.to_dict(seqs)['sars'].seq\n",
    "spikesars"
   ]
  },
  {
   "cell_type": "code",
   "execution_count": 5,
   "metadata": {},
   "outputs": [],
   "source": [
    "sc2 = ep.genbank_to_dataframe('NC_045512.2.gb',cds=True)\n",
    "sc2 = sc2.drop_duplicates('gene')"
   ]
  },
  {
   "cell_type": "markdown",
   "metadata": {},
   "source": [
    "## predict MHC-I and MHC-II epitopes"
   ]
  },
  {
   "cell_type": "code",
   "execution_count": 6,
   "metadata": {},
   "outputs": [],
   "source": [
    "m1_alleles = ep.get_preset_alleles('broad_coverage_mhc1')\n",
    "m2_alleles = ep.get_preset_alleles('mhc2_supertypes')"
   ]
  },
  {
   "cell_type": "code",
   "execution_count": null,
   "metadata": {},
   "outputs": [],
   "source": [
    "P1 = base.get_predictor('netmhcpan') \n",
    "P1.predict_sequences(sc2, alleles=m1_alleles,threads=10,path='scov2_netmhcpan',length=9,overwrite=False)\n",
    "P1.load(path='scov2_netmhcpan')\n",
    "pb1 = P1.promiscuous_binders(n=3, cutoff=.95)"
   ]
  },
  {
   "cell_type": "code",
   "execution_count": 8,
   "metadata": {},
   "outputs": [
    {
     "name": "stdout",
     "output_type": "stream",
     "text": [
      "name                      allele           top peptide        score\n",
      "predictions done for 11 sequences in 8 alleles\n",
      "results saved to /home/damien/gitprojects/epitopepredict/examples/scov2_netmhciipan\n"
     ]
    }
   ],
   "source": [
    "P2 = base.get_predictor('netmhciipan') \n",
    "P2.predict_sequences(sc2, alleles=m2_alleles,threads=10,path='scov2_netmhciipan',length=15,overwrite=False,verbose=True)"
   ]
  },
  {
   "cell_type": "code",
   "execution_count": 9,
   "metadata": {},
   "outputs": [
    {
     "name": "stdout",
     "output_type": "stream",
     "text": [
      "predictions done for 11 sequences in 8 alleles\n",
      "results saved to /home/damien/gitprojects/epitopepredict/examples/scov2_tepitope\n"
     ]
    }
   ],
   "source": [
    "P3 = base.get_predictor('tepitope') \n",
    "P3.predict_sequences(sc2, alleles=m2_alleles,threads=10,path='scov2_tepitope',length=15,overwrite=False)\n",
    "P3.load(path='scov2_tepitope')"
   ]
  },
  {
   "cell_type": "code",
   "execution_count": 11,
   "metadata": {},
   "outputs": [
    {
     "data": {
      "text/plain": [
       "GU280_gp01    70\n",
       "GU280_gp02    70\n",
       "GU280_gp03    38\n",
       "GU280_gp05    30\n",
       "GU280_gp10    19\n",
       "GU280_gp07    14\n",
       "GU280_gp04    11\n",
       "GU280_gp09    11\n",
       "GU280_gp11    10\n",
       "GU280_gp06     9\n",
       "Name: name, dtype: int64"
      ]
     },
     "execution_count": 11,
     "metadata": {},
     "output_type": "execute_result"
    }
   ],
   "source": [
    "P2.load(path='scov2_netmhciipan')\n",
    "pb2 = P2.promiscuous_binders(n=3, cutoff=.95, limit=70)\n",
    "#rb2 = P2.promiscuous_binders(n=3, cutoff_method='rank', cutoff=40)\n",
    "pb2.name.value_counts()\n",
    "#pb3 = P3.promiscuous_binders(n=3, cutoff=50, cutoff_method='rank', limit=50)\n",
    "#pb3.name.value_counts()"
   ]
  },
  {
   "cell_type": "markdown",
   "metadata": {},
   "source": [
    "## conservation: find identity to closest peptide in each HCoV sequence "
   ]
  },
  {
   "cell_type": "code",
   "execution_count": null,
   "metadata": {},
   "outputs": [],
   "source": [
    "import difflib\n",
    "\n",
    "def get_conservation(x, w):    \n",
    "    m = difflib.get_close_matches(x, w, n=1, cutoff=.67)\n",
    "    if len(m)==0:\n",
    "        return 0\n",
    "    else:\n",
    "        m=m[0]\n",
    "        s = difflib.SequenceMatcher(None, x, m)\n",
    "        return s.ratio()\n",
    "\n",
    "def find_epitopes_conserved(pb,gene,locus_tag):\n",
    "    \n",
    "    seqs = get_orthologs(gene)\n",
    "    df = pb[pb.name==locus_tag]\n",
    "    #print (df)\n",
    "    print (len(seqs),len(df))\n",
    "    s=seqs[0]\n",
    "    for s in seqs:\n",
    "        if s.id == 'scov2': \n",
    "            continue\n",
    "        w,ss = peptutils.create_fragments(seq=str(s.seq), length=11)\n",
    "        df.loc[:,s.id] = df.peptide.apply(lambda x: get_conservation(x, w),1)\n",
    "\n",
    "    df.loc[:,'total'] = df[df.columns[8:]].sum(1)\n",
    "    df = df.sort_values('total',ascending=False)\n",
    "    df = df[df.total>0]\n",
    "    df = df.round(2)\n",
    "    return df\n",
    "\n",
    "df = find_epitopes_conserved(pb2, 'S','GU280_gp02')\n",
    "#df.to_csv('S_netmhciipan_conserved.csv')"
   ]
  },
  {
   "cell_type": "markdown",
   "metadata": {},
   "source": [
    "## Find conserved predicted epitopes in all proteins"
   ]
  },
  {
   "cell_type": "code",
   "execution_count": null,
   "metadata": {},
   "outputs": [],
   "source": [
    "res=[]\n",
    "for i,r in scov2_df.iterrows():\n",
    "    print (r.locus_tag,r.gene)    \n",
    "    df = find_epitopes_conserved(pb2,r.gene,r.locus_tag)\n",
    "    df['gene'] = r.gene\n",
    "    res.append(df)\n",
    "res = pd.concat(res).sort_values('total',ascending=False).dropna().reset_index()\n",
    "print (len(res),len(pb2))\n",
    "res.to_csv('scov2_netmhciipan_conserved.csv')"
   ]
  },
  {
   "cell_type": "code",
   "execution_count": 15,
   "metadata": {},
   "outputs": [],
   "source": [
    "cols = ['gene','peptide','pos','alleles','sars','229E','NL63','OC43','HKU1']\n",
    "h=res[:30][cols].style.background_gradient(cmap=\"ocean_r\",subset=['sars','229E','NL63','OC43','HKU1']).set_precision(2)\n",
    "\n",
    "#res[:30][cols]"
   ]
  },
  {
   "cell_type": "markdown",
   "metadata": {},
   "source": [
    "## Compare predictions to mateus exp results"
   ]
  },
  {
   "cell_type": "code",
   "execution_count": 18,
   "metadata": {},
   "outputs": [
    {
     "data": {
      "text/html": [
       "<div>\n",
       "<style scoped>\n",
       "    .dataframe tbody tr th:only-of-type {\n",
       "        vertical-align: middle;\n",
       "    }\n",
       "\n",
       "    .dataframe tbody tr th {\n",
       "        vertical-align: top;\n",
       "    }\n",
       "\n",
       "    .dataframe thead th {\n",
       "        text-align: right;\n",
       "    }\n",
       "</style>\n",
       "<table border=\"1\" class=\"dataframe\">\n",
       "  <thead>\n",
       "    <tr style=\"text-align: right;\">\n",
       "      <th></th>\n",
       "      <th>Sequence</th>\n",
       "      <th>Protein</th>\n",
       "      <th>Start</th>\n",
       "      <th>\"+\"/tested</th>\n",
       "      <th>SFC</th>\n",
       "      <th>CD4R-30</th>\n",
       "      <th>CD4S-31</th>\n",
       "      <th>hit</th>\n",
       "    </tr>\n",
       "  </thead>\n",
       "  <tbody>\n",
       "    <tr>\n",
       "      <th>0</th>\n",
       "      <td>PSGTWLTYTGAIKLD</td>\n",
       "      <td>N</td>\n",
       "      <td>326</td>\n",
       "      <td>1/15</td>\n",
       "      <td>1067</td>\n",
       "      <td>Yes</td>\n",
       "      <td>No</td>\n",
       "      <td>[GTWLTYTGAIKLDDK]</td>\n",
       "    </tr>\n",
       "    <tr>\n",
       "      <th>1</th>\n",
       "      <td>SFIEDLLFNKVTLAD</td>\n",
       "      <td>S</td>\n",
       "      <td>816</td>\n",
       "      <td>7/15</td>\n",
       "      <td>30487</td>\n",
       "      <td>No</td>\n",
       "      <td>Yes</td>\n",
       "      <td>[FIEDLLFNKVTLADA, DLLFNKVTLADAGFI]</td>\n",
       "    </tr>\n",
       "    <tr>\n",
       "      <th>2</th>\n",
       "      <td>YEQYIKWPWYIWLGF</td>\n",
       "      <td>S</td>\n",
       "      <td>1206</td>\n",
       "      <td>1/17</td>\n",
       "      <td>200</td>\n",
       "      <td>No</td>\n",
       "      <td>Yes</td>\n",
       "      <td>None</td>\n",
       "    </tr>\n",
       "    <tr>\n",
       "      <th>3</th>\n",
       "      <td>VLKKLKKSLNVAKSE</td>\n",
       "      <td>nsp8</td>\n",
       "      <td>3976</td>\n",
       "      <td>1/16</td>\n",
       "      <td>5660</td>\n",
       "      <td>Yes</td>\n",
       "      <td>No</td>\n",
       "      <td>[VVLKKLKKSLNVAKS, EVVLKKLKKSLNVAK]</td>\n",
       "    </tr>\n",
       "    <tr>\n",
       "      <th>4</th>\n",
       "      <td>KLLKSIAATRGATVV</td>\n",
       "      <td>nsp12</td>\n",
       "      <td>4966</td>\n",
       "      <td>1/17</td>\n",
       "      <td>187</td>\n",
       "      <td>Yes</td>\n",
       "      <td>No</td>\n",
       "      <td>[RQFHQKLLKSIAATR]</td>\n",
       "    </tr>\n",
       "    <tr>\n",
       "      <th>5</th>\n",
       "      <td>EFYAYLRKHFSMMIL</td>\n",
       "      <td>nsp12</td>\n",
       "      <td>5136</td>\n",
       "      <td>2/18</td>\n",
       "      <td>787</td>\n",
       "      <td>Yes</td>\n",
       "      <td>No</td>\n",
       "      <td>[NEFYAYLRKHFSMMI, YLRKHFSMMILSDDA]</td>\n",
       "    </tr>\n",
       "    <tr>\n",
       "      <th>6</th>\n",
       "      <td>LMIERFVSLAIDAYP</td>\n",
       "      <td>nsp12</td>\n",
       "      <td>5246</td>\n",
       "      <td>2/17</td>\n",
       "      <td>3870</td>\n",
       "      <td>Yes</td>\n",
       "      <td>No</td>\n",
       "      <td>None</td>\n",
       "    </tr>\n",
       "    <tr>\n",
       "      <th>7</th>\n",
       "      <td>TSHKLVLSVNPYVCN</td>\n",
       "      <td>nsp13</td>\n",
       "      <td>5361</td>\n",
       "      <td>1/17</td>\n",
       "      <td>160</td>\n",
       "      <td>Yes</td>\n",
       "      <td>No</td>\n",
       "      <td>None</td>\n",
       "    </tr>\n",
       "    <tr>\n",
       "      <th>8</th>\n",
       "      <td>NVNRFNVAITRAKVG</td>\n",
       "      <td>nsp13</td>\n",
       "      <td>5881</td>\n",
       "      <td>1/18</td>\n",
       "      <td>760</td>\n",
       "      <td>Yes</td>\n",
       "      <td>No</td>\n",
       "      <td>[VNRFNVAITRAKVGI]</td>\n",
       "    </tr>\n",
       "  </tbody>\n",
       "</table>\n",
       "</div>"
      ],
      "text/plain": [
       "          Sequence Protein  Start \"+\"/tested    SFC CD4R-30 CD4S-31                                 hit\n",
       "0  PSGTWLTYTGAIKLD       N    326       1/15   1067     Yes      No                   [GTWLTYTGAIKLDDK]\n",
       "1  SFIEDLLFNKVTLAD       S    816       7/15  30487      No     Yes  [FIEDLLFNKVTLADA, DLLFNKVTLADAGFI]\n",
       "2  YEQYIKWPWYIWLGF       S   1206       1/17    200      No     Yes                                None\n",
       "3  VLKKLKKSLNVAKSE    nsp8   3976       1/16   5660     Yes      No  [VVLKKLKKSLNVAKS, EVVLKKLKKSLNVAK]\n",
       "4  KLLKSIAATRGATVV   nsp12   4966       1/17    187     Yes      No                   [RQFHQKLLKSIAATR]\n",
       "5  EFYAYLRKHFSMMIL   nsp12   5136       2/18    787     Yes      No  [NEFYAYLRKHFSMMI, YLRKHFSMMILSDDA]\n",
       "6  LMIERFVSLAIDAYP   nsp12   5246       2/17   3870     Yes      No                                None\n",
       "7  TSHKLVLSVNPYVCN   nsp13   5361       1/17    160     Yes      No                                None\n",
       "8  NVNRFNVAITRAKVG   nsp13   5881       1/18    760     Yes      No                   [VNRFNVAITRAKVGI]"
      ]
     },
     "metadata": {},
     "output_type": "display_data"
    },
    {
     "name": "stdout",
     "output_type": "stream",
     "text": [
      "0.6666666666666666\n"
     ]
    }
   ],
   "source": [
    "s1 = pd.read_csv('mateus_hcov_reactive.csv')\n",
    "hits=[]\n",
    "w = list(res.peptide)\n",
    "for i,r in s1.iterrows():    \n",
    "    m = difflib.get_close_matches(r.Sequence, w, n=2, cutoff=.6)\n",
    "    #print (r.Sequence,m,r.Protein)\n",
    "    if len(m)>0:\n",
    "        hits.append(m)\n",
    "    else:\n",
    "        hits.append(None)\n",
    "        \n",
    "s1['hit'] = hits\n",
    "display(s1)\n",
    "print (len(s1.hit.dropna())/len(s1))"
   ]
  },
  {
   "cell_type": "markdown",
   "metadata": {},
   "source": [
    "## check epitope selection method\n",
    "\n",
    "Promiscuous binders are those high scoring above some threshold in multiple alleles. There are several ways to select them that can give different results. By default epitopepredict selects those in each allele above a percentile score cutoff and then counts how many alleles each peptide is present in. We can also limit our set in each protein across a genome to prevent large proteins dominating the list. We can also select by score and protein rank. The overlap is shown in the venn diagram."
   ]
  },
  {
   "cell_type": "code",
   "execution_count": 23,
   "metadata": {},
   "outputs": [
    {
     "name": "stdout",
     "output_type": "stream",
     "text": [
      "predictions done for 4 sequences in 4 alleles\n"
     ]
    },
    {
     "data": {
      "text/plain": [
       "GU280_gp01    20\n",
       "GU280_gp02     9\n",
       "GU280_gp03     5\n",
       "GU280_gp04     3\n",
       "Name: name, dtype: int64"
      ]
     },
     "execution_count": 23,
     "metadata": {},
     "output_type": "execute_result"
    }
   ],
   "source": [
    "reload(base)\n",
    "P = base.get_predictor('tepitope') \n",
    "P.predict_sequences(sc2, alleles=m2_alleles[:4],names=['GU280_gp01','GU280_gp02','GU280_gp03','GU280_gp04'],threads=10,length=9)\n",
    "pb= P.promiscuous_binders(n=2, cutoff=.98, limit=20)\n",
    "pb.name.value_counts()"
   ]
  },
  {
   "cell_type": "code",
   "execution_count": 20,
   "metadata": {},
   "outputs": [
    {
     "data": {
      "text/plain": [
       "GU280_gp04    20\n",
       "GU280_gp03    19\n",
       "GU280_gp02     6\n",
       "GU280_gp01     4\n",
       "Name: name, dtype: int64"
      ]
     },
     "execution_count": 20,
     "metadata": {},
     "output_type": "execute_result"
    }
   ],
   "source": [
    "rb= P.promiscuous_binders(n=3, cutoff_method='rank',cutoff=30,limit=20)\n",
    "rb.name.value_counts()"
   ]
  },
  {
   "cell_type": "code",
   "execution_count": 21,
   "metadata": {},
   "outputs": [
    {
     "data": {
      "text/plain": [
       "GU280_gp01    20\n",
       "GU280_gp02    13\n",
       "GU280_gp04     6\n",
       "GU280_gp03     3\n",
       "Name: name, dtype: int64"
      ]
     },
     "execution_count": 21,
     "metadata": {},
     "output_type": "execute_result"
    }
   ],
   "source": [
    "sb= P.promiscuous_binders(n=2, cutoff_method='score',cutoff=3.5,limit=20)\n",
    "sb.name.value_counts()"
   ]
  },
  {
   "cell_type": "code",
   "execution_count": 22,
   "metadata": {},
   "outputs": [
    {
     "data": {
      "image/png": "[encoded data removed]",
      "text/plain": [
       "<Figure size 432x288 with 1 Axes>"
      ]
     },
     "metadata": {},
     "output_type": "display_data"
    }
   ],
   "source": [
    "from matplotlib_venn import venn3\n",
    "ax = venn3((set(pb.peptide),set(rb.peptide),set(sb.peptide)), set_labels = ('default', 'ranked', 'score'))"
   ]
  },
  {
   "cell_type": "code",
   "execution_count": 168,
   "metadata": {},
   "outputs": [],
   "source": [
    "b=P.get_binders(cutoff=10, cutoff_method='rank')"
   ]
  },
  {
   "cell_type": "code",
   "execution_count": 194,
   "metadata": {},
   "outputs": [
    {
     "data": {
      "text/plain": [
       "GU280_gp01    39\n",
       "GU280_gp02    35\n",
       "GU280_gp03    29\n",
       "GU280_gp04    20\n",
       "Name: name, dtype: int64"
      ]
     },
     "execution_count": 194,
     "metadata": {},
     "output_type": "execute_result"
    }
   ],
   "source": [
    "func = max\n",
    "s=b.groupby(['peptide','pos','name']).agg({'allele': pd.Series.count,\n",
    "             'core': base.first, P.scorekey:[func,np.mean],\n",
    "             'rank': np.median})\n",
    "s.columns = s.columns.get_level_values(1)\n",
    "s.rename(columns={'max': P.scorekey, 'count': 'alleles','median':'median_rank',\n",
    "                 'first':'core'}, inplace=True)\n",
    "s = s.reset_index()\n",
    "s\n",
    "s.name.value_counts()"
   ]
  },
  {
   "cell_type": "code",
   "execution_count": 197,
   "metadata": {},
   "outputs": [
    {
     "data": {
      "text/plain": [
       "GU280_gp03    10\n",
       "GU280_gp02    10\n",
       "GU280_gp01    10\n",
       "GU280_gp04    10\n",
       "Name: name, dtype: int64"
      ]
     },
     "execution_count": 197,
     "metadata": {},
     "output_type": "execute_result"
    }
   ],
   "source": [
    "s=s.groupby('name').head(10)\n",
    "s.name.value_counts()"
   ]
  },
  {
   "cell_type": "code",
   "execution_count": null,
   "metadata": {},
   "outputs": [],
   "source": []
  }
 ],
 "metadata": {
  "kernelspec": {
   "display_name": "Python 3",
   "language": "python",
   "name": "python3"
  },
  "language_info": {
   "codemirror_mode": {
    "name": "ipython",
    "version": 3
   },
   "file_extension": ".py",
   "mimetype": "text/x-python",
   "name": "python",
   "nbconvert_exporter": "python",
   "pygments_lexer": "ipython3",
   "version": "3.8.2"
  }
 },
 "nbformat": 4,
 "nbformat_minor": 4
}
